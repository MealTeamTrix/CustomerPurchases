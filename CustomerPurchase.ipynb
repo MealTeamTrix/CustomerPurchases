{
 "cells": [
  {
   "cell_type": "markdown",
   "id": "f9202632-7a3e-4f4b-85bc-b989b7d30aae",
   "metadata": {},
   "source": [
    "This Datacamp project is \"Will This Customer Purchase Your Product\" the purpose of this project is to:\n",
    "* Identify the purchase rates for online shopping session by customer type for the months of Nov and Dec.\n",
    "* Identify the strongetst correlation in total time spent among page types by returning customers in Nov and Dec.\n",
    "* Lastly there is a new campaign for returning customers that will boost the purchase rate by 15%. The analyst is to identify the likelihood of achieving at least 100 sales out of 500 online shopping sessions."
   ]
  },
  {
   "cell_type": "code",
   "execution_count": 1,
   "id": "38da7a1a-5cf2-45f4-b3f9-7255ba16f20e",
   "metadata": {},
   "outputs": [
    {
     "data": {
      "text/html": [
       "<div>\n",
       "<style scoped>\n",
       "    .dataframe tbody tr th:only-of-type {\n",
       "        vertical-align: middle;\n",
       "    }\n",
       "\n",
       "    .dataframe tbody tr th {\n",
       "        vertical-align: top;\n",
       "    }\n",
       "\n",
       "    .dataframe thead th {\n",
       "        text-align: right;\n",
       "    }\n",
       "</style>\n",
       "<table border=\"1\" class=\"dataframe\">\n",
       "  <thead>\n",
       "    <tr style=\"text-align: right;\">\n",
       "      <th></th>\n",
       "      <th>SessionID</th>\n",
       "      <th>Administrative</th>\n",
       "      <th>Administrative_Duration</th>\n",
       "      <th>Informational</th>\n",
       "      <th>Informational_Duration</th>\n",
       "      <th>ProductRelated</th>\n",
       "      <th>ProductRelated_Duration</th>\n",
       "      <th>BounceRates</th>\n",
       "      <th>ExitRates</th>\n",
       "      <th>PageValues</th>\n",
       "      <th>SpecialDay</th>\n",
       "      <th>Weekend</th>\n",
       "      <th>Month</th>\n",
       "      <th>CustomerType</th>\n",
       "      <th>Purchase</th>\n",
       "    </tr>\n",
       "  </thead>\n",
       "  <tbody>\n",
       "    <tr>\n",
       "      <th>0</th>\n",
       "      <td>1</td>\n",
       "      <td>0</td>\n",
       "      <td>0.0</td>\n",
       "      <td>0</td>\n",
       "      <td>0.0</td>\n",
       "      <td>1</td>\n",
       "      <td>0.000000</td>\n",
       "      <td>0.20</td>\n",
       "      <td>0.20</td>\n",
       "      <td>0.0</td>\n",
       "      <td>0.0</td>\n",
       "      <td>False</td>\n",
       "      <td>Feb</td>\n",
       "      <td>Returning_Customer</td>\n",
       "      <td>0.0</td>\n",
       "    </tr>\n",
       "    <tr>\n",
       "      <th>1</th>\n",
       "      <td>2</td>\n",
       "      <td>0</td>\n",
       "      <td>0.0</td>\n",
       "      <td>0</td>\n",
       "      <td>0.0</td>\n",
       "      <td>2</td>\n",
       "      <td>64.000000</td>\n",
       "      <td>0.00</td>\n",
       "      <td>0.10</td>\n",
       "      <td>0.0</td>\n",
       "      <td>0.0</td>\n",
       "      <td>False</td>\n",
       "      <td>Feb</td>\n",
       "      <td>Returning_Customer</td>\n",
       "      <td>0.0</td>\n",
       "    </tr>\n",
       "    <tr>\n",
       "      <th>2</th>\n",
       "      <td>3</td>\n",
       "      <td>0</td>\n",
       "      <td>0.0</td>\n",
       "      <td>0</td>\n",
       "      <td>0.0</td>\n",
       "      <td>1</td>\n",
       "      <td>0.000000</td>\n",
       "      <td>0.20</td>\n",
       "      <td>0.20</td>\n",
       "      <td>0.0</td>\n",
       "      <td>0.0</td>\n",
       "      <td>False</td>\n",
       "      <td>Feb</td>\n",
       "      <td>Returning_Customer</td>\n",
       "      <td>0.0</td>\n",
       "    </tr>\n",
       "    <tr>\n",
       "      <th>3</th>\n",
       "      <td>4</td>\n",
       "      <td>0</td>\n",
       "      <td>0.0</td>\n",
       "      <td>0</td>\n",
       "      <td>0.0</td>\n",
       "      <td>2</td>\n",
       "      <td>2.666667</td>\n",
       "      <td>0.05</td>\n",
       "      <td>0.14</td>\n",
       "      <td>0.0</td>\n",
       "      <td>0.0</td>\n",
       "      <td>False</td>\n",
       "      <td>Feb</td>\n",
       "      <td>Returning_Customer</td>\n",
       "      <td>0.0</td>\n",
       "    </tr>\n",
       "    <tr>\n",
       "      <th>4</th>\n",
       "      <td>5</td>\n",
       "      <td>0</td>\n",
       "      <td>0.0</td>\n",
       "      <td>0</td>\n",
       "      <td>0.0</td>\n",
       "      <td>10</td>\n",
       "      <td>627.500000</td>\n",
       "      <td>0.02</td>\n",
       "      <td>0.05</td>\n",
       "      <td>0.0</td>\n",
       "      <td>0.0</td>\n",
       "      <td>True</td>\n",
       "      <td>Feb</td>\n",
       "      <td>Returning_Customer</td>\n",
       "      <td>0.0</td>\n",
       "    </tr>\n",
       "  </tbody>\n",
       "</table>\n",
       "</div>"
      ],
      "text/plain": [
       "   SessionID  Administrative  Administrative_Duration  Informational  \\\n",
       "0          1               0                      0.0              0   \n",
       "1          2               0                      0.0              0   \n",
       "2          3               0                      0.0              0   \n",
       "3          4               0                      0.0              0   \n",
       "4          5               0                      0.0              0   \n",
       "\n",
       "   Informational_Duration  ProductRelated  ProductRelated_Duration  \\\n",
       "0                     0.0               1                 0.000000   \n",
       "1                     0.0               2                64.000000   \n",
       "2                     0.0               1                 0.000000   \n",
       "3                     0.0               2                 2.666667   \n",
       "4                     0.0              10               627.500000   \n",
       "\n",
       "   BounceRates  ExitRates  PageValues  SpecialDay  Weekend Month  \\\n",
       "0         0.20       0.20         0.0         0.0    False   Feb   \n",
       "1         0.00       0.10         0.0         0.0    False   Feb   \n",
       "2         0.20       0.20         0.0         0.0    False   Feb   \n",
       "3         0.05       0.14         0.0         0.0    False   Feb   \n",
       "4         0.02       0.05         0.0         0.0     True   Feb   \n",
       "\n",
       "         CustomerType  Purchase  \n",
       "0  Returning_Customer       0.0  \n",
       "1  Returning_Customer       0.0  \n",
       "2  Returning_Customer       0.0  \n",
       "3  Returning_Customer       0.0  \n",
       "4  Returning_Customer       0.0  "
      ]
     },
     "execution_count": 1,
     "metadata": {},
     "output_type": "execute_result"
    }
   ],
   "source": [
    "# Import required libraries\n",
    "import pandas as pd\n",
    "import numpy as np\n",
    "import matplotlib.pyplot as plt\n",
    "from scipy import stats\n",
    "\n",
    "# Read in the data\n",
    "shopping_data = pd.read_csv('data/online_shopping_session_data.csv')\n",
    "# View the data\n",
    "shopping_data.head()"
   ]
  },
  {
   "cell_type": "code",
   "execution_count": 3,
   "id": "71d7227b-b6a5-4f59-b8c8-50b8075e76b8",
   "metadata": {},
   "outputs": [
    {
     "name": "stdout",
     "output_type": "stream",
     "text": [
      "['Nov' 'Dec']\n"
     ]
    }
   ],
   "source": [
    "# Subset the dataframe for Nov and Dec\n",
    "shopping_Nov_Dec = shopping_data[shopping_data['Month'].isin(['Nov','Dec'])]\n",
    "\n",
    "# View the results\n",
    "shopping_Nov_Dec.head()\n",
    "\n",
    "# Verify there is only unique data in the 'Month' column\n",
    "print(shopping_Nov_Dec['Month'].unique())"
   ]
  },
  {
   "cell_type": "code",
   "execution_count": 4,
   "id": "0bdb4f37-0b0f-4686-b3e7-fbce61eb33e0",
   "metadata": {},
   "outputs": [
    {
     "name": "stdout",
     "output_type": "stream",
     "text": [
      "CustomerType        Purchase\n",
      "New_Customer        0.0          529\n",
      "                    1.0          199\n",
      "Returning_Customer  0.0         2994\n",
      "                    1.0          728\n",
      "Name: count, dtype: int64\n"
     ]
    }
   ],
   "source": [
    "# Get session frequency stats by CustomerType and Purchase\n",
    "count_session = shopping_Nov_Dec.groupby(['CustomerType'])['Purchase'].value_counts()\n",
    "print(count_session)"
   ]
  },
  {
   "cell_type": "code",
   "execution_count": 18,
   "id": "4cf9bc72-ce6c-4e21-8bb4-1477313856d1",
   "metadata": {},
   "outputs": [],
   "source": [
    "# Total number of session by CustomerType\n",
    "total_new_customer = np.sum(count_session['New_Customer'])\n",
    "total_returning_customer = np.sum(count_session['Returning_Customer'])"
   ]
  },
  {
   "cell_type": "code",
   "execution_count": 19,
   "id": "900270af-9a46-4137-b813-3e6b5a85e8ad",
   "metadata": {},
   "outputs": [],
   "source": [
    "# Total number of purchase by CustomerType\n",
    "purchase_new_customer = count_session[('New_Customer', 1)]\n",
    "purchase_returning_customer = count_session[('Returning_Customer', 1)]"
   ]
  },
  {
   "cell_type": "code",
   "execution_count": 23,
   "id": "bb467816-c272-4f0d-8019-2920782d5b20",
   "metadata": {},
   "outputs": [
    {
     "name": "stdout",
     "output_type": "stream",
     "text": [
      "0.2733516483516483\n",
      "0.1955937667920473\n"
     ]
    }
   ],
   "source": [
    "# Calculate the purchasing rates\n",
    "purchase_rate_new = purchase_new_customer / total_new_customer\n",
    "purchase_rate_returning = purchase_returning_customer / total_returning_customer\n",
    "# View the results\n",
    "print(purchase_rate_new)\n",
    "print(purchase_rate_returning)"
   ]
  },
  {
   "cell_type": "code",
   "execution_count": 24,
   "id": "0e81370e-1dcd-4b08-b6e6-c1a1abfca9df",
   "metadata": {},
   "outputs": [
    {
     "name": "stdout",
     "output_type": "stream",
     "text": [
      "{'Returning_Customer': np.float64(0.1955937667920473), 'New_Customer': np.float64(0.2733516483516483)}\n"
     ]
    }
   ],
   "source": [
    "# Calculate the purchase rates\n",
    "purchase_rates = {\"Returning_Customer\": purchase_rate_returning, \"New_Customer\": purchase_rate_new}\n",
    "print(purchase_rates)"
   ]
  },
  {
   "cell_type": "code",
   "execution_count": 25,
   "id": "ec22fc23-41b7-4277-bf2b-e65157dc3206",
   "metadata": {},
   "outputs": [],
   "source": [
    "# Identify the strongest correlation in total tme spent between different types of pages visted by returning customers during the months of Nov and Dec\n",
    "# Use Scipy pearsonr function\n",
    "cor_admin_info = stats.pearsonr(shopping_Nov_Dec['Administrative_Duration'], shopping_Nov_Dec['Informational_Duration'])"
   ]
  },
  {
   "cell_type": "code",
   "execution_count": 27,
   "id": "d97a72cb-bd54-43c3-b03a-04639b0d8c5a",
   "metadata": {},
   "outputs": [
    {
     "name": "stdout",
     "output_type": "stream",
     "text": [
      "{'pair': ('Administrative_Duration', 'ProductRelated_Duration'), 'correlation': PearsonRResult(statistic=np.float64(0.24468855792839214), pvalue=np.float64(1.1351596218133316e-61))}\n"
     ]
    }
   ],
   "source": [
    "# Store top correlation\n",
    "top_correlation = {\"pair\": ('Administrative_Duration', 'ProductRelated_Duration'), \"correlation\": cor_admin_info}\n",
    "print(top_correlation)"
   ]
  },
  {
   "cell_type": "code",
   "execution_count": 28,
   "id": "75474321-2d72-41c1-b823-8f5b83708bf0",
   "metadata": {},
   "outputs": [
    {
     "name": "stdout",
     "output_type": "stream",
     "text": [
      "Current purchase rate for the returning customer: 0.1955937667920473\n"
     ]
    }
   ],
   "source": [
    "# Purchase is a binomial random variable taking the value of either 0 or 1\n",
    "print(\"Current purchase rate for the returning customer:\", purchase_rate_returning)"
   ]
  },
  {
   "cell_type": "code",
   "execution_count": 29,
   "id": "389afed2-a284-47db-9fd3-9674dc71aee0",
   "metadata": {},
   "outputs": [
    {
     "name": "stdout",
     "output_type": "stream",
     "text": [
      "Increased purchase rate for the returning customer: 0.22493283181085436\n"
     ]
    }
   ],
   "source": [
    "# 15% Increase in this rate would be\n",
    "increased_purchase_rate_returning = 1.15 * purchase_rate_returning\n",
    "print(\"Increased purchase rate for the returning customer:\", increased_purchase_rate_returning)"
   ]
  },
  {
   "cell_type": "code",
   "execution_count": 30,
   "id": "7807402d-a949-42fe-9224-23cd53e0b6cf",
   "metadata": {},
   "outputs": [
    {
     "name": "stdout",
     "output_type": "stream",
     "text": [
      "probability of having <100 sales: 0.09877786609627338\n"
     ]
    }
   ],
   "source": [
    "# First, we find the likelihood of having <100 sales of 500 sessions\n",
    "# Find this from binomial cdf\n",
    "prob_sales_100_less = stats.binom.cdf(k=100, n=500, p=increased_purchase_rate_returning)\n",
    "print(\"probability of having <100 sales:\", prob_sales_100_less)"
   ]
  },
  {
   "cell_type": "code",
   "execution_count": 31,
   "id": "36b76b60-c669-46a5-92cf-2c58a1c850e4",
   "metadata": {},
   "outputs": [
    {
     "name": "stdout",
     "output_type": "stream",
     "text": [
      "probability of having at least 100 sales: 0.9012221339037266\n"
     ]
    }
   ],
   "source": [
    "# Then, to find the probability of having 100 or more sales is 1-prob_sales_100_less\n",
    "prob_at_least_100_sales = 1 - prob_sales_100_less\n",
    "print(\"probability of having at least 100 sales:\", prob_at_least_100_sales)"
   ]
  },
  {
   "cell_type": "code",
   "execution_count": 32,
   "id": "7aa4f3f6-d870-4566-960b-d2a5d2164b06",
   "metadata": {},
   "outputs": [
    {
     "data": {
      "image/png": "[encoded data removed]",
      "text/plain": [
       "<Figure size 640x480 with 1 Axes>"
      ]
     },
     "metadata": {},
     "output_type": "display_data"
    }
   ],
   "source": [
    "# Plotting the binomial probability distribution\n",
    "n_sessions = 500\n",
    "k_values = np.arange(500) + 1\n",
    "p_binom_values = [stats.binom.pmf(k, n_sessions, increased_purchase_rate_returning) for k in k_values ] \n",
    "plt.bar(k_values, p_binom_values) \n",
    "plt.vlines(100, 0, 0.08, color='r', linestyle='dashed', label=\"sales=100\")\n",
    "plt.xlabel(\"number of sales\")\n",
    "plt.ylabel(\"probability\")\n",
    "plt.legend()\n",
    "plt.show()"
   ]
  }
 ],
 "metadata": {
  "kernelspec": {
   "display_name": "Python 3 (ipykernel)",
   "language": "python",
   "name": "python3"
  },
  "language_info": {
   "codemirror_mode": {
    "name": "ipython",
    "version": 3
   },
   "file_extension": ".py",
   "mimetype": "text/x-python",
   "name": "python",
   "nbconvert_exporter": "python",
   "pygments_lexer": "ipython3",
   "version": "3.10.12"
  }
 },
 "nbformat": 4,
 "nbformat_minor": 5
}
